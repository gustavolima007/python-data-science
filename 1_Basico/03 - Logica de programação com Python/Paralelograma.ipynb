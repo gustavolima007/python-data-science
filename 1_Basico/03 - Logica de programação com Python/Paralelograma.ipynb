{
 "cells": [
  {
   "cell_type": "markdown",
   "metadata": {},
   "source": [
    "### Descreva um pseudocodigo para calcular a area de um paralelograma"
   ]
  },
  {
   "cell_type": "code",
   "execution_count": null,
   "metadata": {},
   "outputs": [],
   "source": [
    "Início\n",
    "    // Definir as variáveis\n",
    "    Escreva \"Informe a base do paralelogramo: \"\n",
    "    Leia base\n",
    "\n",
    "    Escreva \"Informe a altura do paralelogramo: \"\n",
    "    Leia altura\n",
    "\n",
    "    // Calcular a área\n",
    "    area <- base * altura\n",
    "\n",
    "    // Exibir o resultado\n",
    "    Escreva \"A área do paralelogramo é: \", area\n",
    "Fim"
   ]
  }
 ],
 "metadata": {
  "kernelspec": {
   "display_name": "Python 3",
   "language": "python",
   "name": "python3"
  },
  "language_info": {
   "name": "python",
   "version": "3.13.2"
  }
 },
 "nbformat": 4,
 "nbformat_minor": 2
}
